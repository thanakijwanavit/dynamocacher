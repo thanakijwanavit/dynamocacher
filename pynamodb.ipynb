{
 "cells": [
  {
   "cell_type": "code",
   "execution_count": 33,
   "metadata": {},
   "outputs": [],
   "source": [
    "from pynamodb.models import Model\n",
    "from pynamodb.attributes import UnicodeAttribute, NumberAttribute, JSONAttribute, BinaryAttribute\n",
    "import json, pickle, logging, hashlib, os, zlib, lzma\n",
    "from datetime import datetime\n",
    "class Cacher(Model):\n",
    "  \"\"\"\n",
    "  cache for function\n",
    "  \"\"\"\n",
    "  cacheKey = UnicodeAttribute(hash_key=True)\n",
    "  data = JSONAttribute(default={})\n",
    "  compressedData = BinaryAttribute(null=True)\n",
    "  timestamp = NumberAttribute()\n",
    "  def __repr__(self):\n",
    "    return json.dumps({\n",
    "        'cacheKey': self.cacheKey,\n",
    "        'data': self.data,\n",
    "        'timestamp': self.timestamp\n",
    "                })\n",
    "\n",
    "  @staticmethod\n",
    "  def hashValue(inputDict:dict):\n",
    "      return hashlib.sha256(json.dumps(inputDict,sort_keys=True).encode()).hexdigest()\n",
    "\n",
    "  @classmethod\n",
    "  def getCache(cls, input, timeout = 86400, verbose=False, compression = True):\n",
    "    # check cache for value\n",
    "    cache = next(cls.query(cls.hashValue(input)), None)\n",
    "    if cache and (datetime.now().timestamp() - cache.timestamp < timeout):\n",
    "      logging.debug('log found')\n",
    "      if not compression:\n",
    "        return cache.data\n",
    "      try:\n",
    "        return cls.decompress(cache.compressedData)\n",
    "      except:\n",
    "        logging.exception('error decompressiong, perhaps data is not compressed?')\n",
    "        return cache.data\n",
    "    else:\n",
    "      logging.warning('cache not found or expired')\n",
    "      return None\n",
    "    \n",
    "  @classmethod\n",
    "  def addCache(cls, input:dict, output:dict, compression = True):\n",
    "    cache = cls(\n",
    "        cacheKey = cls.hashValue(input),\n",
    "        data = output if not compression else {},\n",
    "        timestamp = datetime.now().timestamp(),\n",
    "        compressedData = cls.compress(input) if compression else None\n",
    "    )\n",
    "    try:\n",
    "        return cache.save()\n",
    "    except Exception as e:\n",
    "        logging.exception(f'{e}')\n",
    "  @staticmethod\n",
    "  def compress(inputDict:dict,method = zlib)->bin:\n",
    "    return zlib.compress(json.dumps(inputDict).encode())\n",
    "  @staticmethod\n",
    "  def decompress(data:bin, method = zlib)->dict:\n",
    "    return json.loads(zlib.decompress(data).decode())\n",
    "\n"
   ]
  },
  {
   "cell_type": "code",
   "execution_count": 34,
   "metadata": {},
   "outputs": [],
   "source": [
    "# %%timeit\n",
    "def testmethod(method):\n",
    "  %timeit compressed = Cacher.compress([i for i in range(100000)],method = method)\n",
    "  compressed = Cacher.compress([i for i in range(100000)], method = method)\n",
    "  %timeit decompressed = Cacher.decompress(compressed, method = method)\n",
    "  decompressed = Cacher.decompress(compressed, method = method)\n",
    "# decompressed"
   ]
  },
  {
   "cell_type": "code",
   "execution_count": 35,
   "metadata": {},
   "outputs": [],
   "source": [
    "# testmethod(lz4.frame)\n",
    "# testmethod(zlib)\n",
    "# testmethod(gzip)\n",
    "# testmethod(lzma)"
   ]
  },
  {
   "cell_type": "markdown",
   "metadata": {},
   "source": [
    "# Test"
   ]
  },
  {
   "cell_type": "code",
   "execution_count": 36,
   "metadata": {},
   "outputs": [],
   "source": [
    "# #hide\n",
    "# import pickle\n",
    "# credLocation = '/Users/nic/.dynamoCache'\n",
    "# user =''\n",
    "# pw = ''\n",
    "# if user and pw:\n",
    "#   with open (credLocation , 'wb') as f:\n",
    "#     pickle.dump({\n",
    "#         'user': user,\n",
    "#         'pw': pw\n",
    "#     }, f)\n",
    "# with open(credLocation , 'rb') as f:\n",
    "#   creden = pickle.load(f)\n",
    "#   PW = creden['pw']\n",
    "#   USER = creden['user']\n",
    "# # print(PW, USER)"
   ]
  },
  {
   "cell_type": "code",
   "execution_count": 53,
   "metadata": {},
   "outputs": [],
   "source": [
    "class Cache(Cacher):\n",
    "  class Meta:\n",
    "      table_name = 'dynamoCacheTest'\n",
    "      region = 'ap-southeast-1'\n",
    "      dax_read_endpoints = ['longtermcluster.vuu7lr.clustercfg.dax.apse1.cache.amazonaws.com:8111'] # optional dax, note that dax will speed up dynamodb significantly\n",
    "      dax_write_endpoints = ['longtermcluster.vuu7lr.clustercfg.dax.apse1.cache.amazonaws.com:8111']# optional dax, note that dax will speed \n",
    "      billing_mode= 'PAY_PER_REQUEST'"
   ]
  },
  {
   "cell_type": "code",
   "execution_count": 54,
   "metadata": {},
   "outputs": [],
   "source": [
    "Cache.create_table(billing_mode=\"PAY_PER_REQUEST\")"
   ]
  },
  {
   "cell_type": "code",
   "execution_count": 55,
   "metadata": {},
   "outputs": [
    {
     "data": {
      "text/plain": [
       "{'ConsumedCapacity': {'TableName': 'dynamoCacheTest', 'CapacityUnits': 1.0}}"
      ]
     },
     "execution_count": 55,
     "metadata": {},
     "output_type": "execute_result"
    }
   ],
   "source": [
    "# %time\n",
    "Cache.addCache({'hello':'world'}, {'output': 'dummy'}, compression = False)"
   ]
  },
  {
   "cell_type": "code",
   "execution_count": 56,
   "metadata": {},
   "outputs": [
    {
     "data": {
      "text/plain": [
       "{'output': 'dummy'}"
      ]
     },
     "execution_count": 56,
     "metadata": {},
     "output_type": "execute_result"
    }
   ],
   "source": [
    "Cache.getCache({'hello':'world'}, compression = False)"
   ]
  },
  {
   "cell_type": "code",
   "execution_count": null,
   "metadata": {},
   "outputs": [],
   "source": []
  },
  {
   "cell_type": "code",
   "execution_count": null,
   "metadata": {},
   "outputs": [],
   "source": []
  }
 ],
 "metadata": {
  "kernelspec": {
   "display_name": "python38",
   "language": "python",
   "name": "python38"
  },
  "language_info": {
   "codemirror_mode": {
    "name": "ipython",
    "version": 3
   },
   "file_extension": ".py",
   "mimetype": "text/x-python",
   "name": "python",
   "nbconvert_exporter": "python",
   "pygments_lexer": "ipython3",
   "version": "3.8.8"
  }
 },
 "nbformat": 4,
 "nbformat_minor": 4
}
