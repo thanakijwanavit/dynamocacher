{
 "cells": [
  {
   "cell_type": "code",
   "execution_count": 64,
   "metadata": {},
   "outputs": [],
   "source": [
    "from pynamodb.models import Model\n",
    "from pynamodb.attributes import UnicodeAttribute, NumberAttribute, JSONAttribute, BinaryAttribute\n",
    "import json, pickle, logging, hashlib, os, zlib, lzma\n",
    "from datetime import datetime\n",
    "class Cacher(Model):\n",
    "  \"\"\"\n",
    "  cache for function\n",
    "  \"\"\"\n",
    "  cacheKey = UnicodeAttribute(hash_key=True)\n",
    "  data = JSONAttribute(default={})\n",
    "  compressedData = BinaryAttribute(null=True)\n",
    "  timestamp = NumberAttribute()\n",
    "  def __repr__(self):\n",
    "    return json.dumps({\n",
    "        'cacheKey': self.cacheKey,\n",
    "        'data': self.data,\n",
    "        'timestamp': self.timestamp\n",
    "                })\n",
    "\n",
    "  @staticmethod\n",
    "  def hashValue(inputDict:dict):\n",
    "      return hashlib.sha256(json.dumps(inputDict).encode()).hexdigest()\n",
    "\n",
    "  @classmethod\n",
    "  def getCache(cls, input, timeout = 86400, verbose=False, compression = True):\n",
    "    # check cache for value\n",
    "    cache = next(cls.query(cls.hashValue(input)), None)\n",
    "    if cache and (datetime.now().timestamp() - cache.timestamp < timeout):\n",
    "      logging.debug('log found')\n",
    "      if not compression:\n",
    "        return cache.data\n",
    "      try:\n",
    "        return cls.decompress(cache.compressedData)\n",
    "      except:\n",
    "        logging.exception('error decompressiong, perhaps data is not compressed?')\n",
    "        return cache.data\n",
    "    else:\n",
    "      logging.warning('cache not found or expired')\n",
    "      return None\n",
    "  @classmethod\n",
    "  def addCache(cls, input:dict, output:dict, compression = True):\n",
    "    cache = cls(\n",
    "        cacheKey = cls.hashValue(input),\n",
    "        data = output if not compression else {},\n",
    "        timestamp = datetime.now().timestamp(),\n",
    "        compressedData = cls.compress(input) if compression else None\n",
    "    )\n",
    "    try:\n",
    "        return cache.save()\n",
    "    except Exception as e:\n",
    "        logging.exception(f'{e}')\n",
    "  @staticmethod\n",
    "  def compress(inputDict:dict,method = zlib)->bin:\n",
    "    return zlib.compress(json.dumps(inputDict).encode())\n",
    "  @staticmethod\n",
    "  def decompress(data:bin, method = zlib)->dict:\n",
    "    return json.loads(zlib.decompress(data).decode())\n",
    "\n"
   ]
  },
  {
   "cell_type": "code",
   "execution_count": 65,
   "metadata": {},
   "outputs": [],
   "source": [
    "# %%timeit\n",
    "def testmethod(method):\n",
    "  %timeit compressed = Cacher.compress([i for i in range(100000)],method = method)\n",
    "  compressed = Cacher.compress([i for i in range(100000)], method = method)\n",
    "  %timeit decompressed = Cacher.decompress(compressed, method = method)\n",
    "  decompressed = Cacher.decompress(compressed, method = method)\n",
    "# decompressed"
   ]
  },
  {
   "cell_type": "code",
   "execution_count": 66,
   "metadata": {},
   "outputs": [
    {
     "name": "stdout",
     "output_type": "stream",
     "text": [
      "36.6 ms ± 398 µs per loop (mean ± std. dev. of 7 runs, 10 loops each)\n",
      "8.99 ms ± 190 µs per loop (mean ± std. dev. of 7 runs, 100 loops each)\n",
      "35.6 ms ± 441 µs per loop (mean ± std. dev. of 7 runs, 10 loops each)\n",
      "9.05 ms ± 86.7 µs per loop (mean ± std. dev. of 7 runs, 100 loops each)\n",
      "36.3 ms ± 496 µs per loop (mean ± std. dev. of 7 runs, 10 loops each)\n",
      "8.9 ms ± 98.3 µs per loop (mean ± std. dev. of 7 runs, 100 loops each)\n",
      "35.9 ms ± 463 µs per loop (mean ± std. dev. of 7 runs, 10 loops each)\n",
      "9 ms ± 91.9 µs per loop (mean ± std. dev. of 7 runs, 100 loops each)\n"
     ]
    }
   ],
   "source": [
    "# testmethod(lz4.frame)\n",
    "# testmethod(zlib)\n",
    "# testmethod(gzip)\n",
    "# testmethod(lzma)"
   ]
  },
  {
   "cell_type": "markdown",
   "metadata": {},
   "source": [
    "# Test"
   ]
  },
  {
   "cell_type": "code",
   "execution_count": 2,
   "metadata": {},
   "outputs": [],
   "source": [
    "#hide\n",
    "import pickle\n",
    "credLocation = '/Users/nic/.dynamoCache'\n",
    "user =''\n",
    "pw = ''\n",
    "if user and pw:\n",
    "  with open (credLocation , 'wb') as f:\n",
    "    pickle.dump({\n",
    "        'user': user,\n",
    "        'pw': pw\n",
    "    }, f)\n",
    "with open(credLocation , 'rb') as f:\n",
    "  creden = pickle.load(f)\n",
    "  PW = creden['pw']\n",
    "  USER = creden['user']\n",
    "# print(PW, USER)"
   ]
  },
  {
   "cell_type": "code",
   "execution_count": 68,
   "metadata": {},
   "outputs": [],
   "source": [
    "class Cache(Cacher):\n",
    "  class Meta:\n",
    "      table_name = 'dynamoCache'\n",
    "      region = 'us-east-1'\n",
    "      aws_access_key_id = USER\n",
    "      aws_secret_access_key = PW\n",
    "      billing_mode= 'PAY_PER_REQUEST'"
   ]
  },
  {
   "cell_type": "code",
   "execution_count": 75,
   "metadata": {},
   "outputs": [
    {
     "data": {
      "text/plain": [
       "{'ConsumedCapacity': {'CapacityUnits': 1.0, 'TableName': 'dynamoCache'}}"
      ]
     },
     "execution_count": 75,
     "metadata": {},
     "output_type": "execute_result"
    }
   ],
   "source": [
    "Cache.addCache({'hello':'world'}, {'output': 'dummy'}, compression = False)"
   ]
  },
  {
   "cell_type": "code",
   "execution_count": 76,
   "metadata": {},
   "outputs": [
    {
     "name": "stderr",
     "output_type": "stream",
     "text": [
      "ERROR:root:error decompressiong, perhaps data is not compressed?\n",
      "Traceback (most recent call last):\n",
      "  File \"<ipython-input-64-159a6fcca044>\", line 33, in getCache\n",
      "    return cls.decompress(cache.compressedData)\n",
      "  File \"<ipython-input-64-159a6fcca044>\", line 57, in decompress\n",
      "    return json.loads(zlib.decompress(data).decode())\n",
      "TypeError: a bytes-like object is required, not 'NoneType'\n"
     ]
    },
    {
     "data": {
      "text/plain": [
       "{'output': 'dummy'}"
      ]
     },
     "execution_count": 76,
     "metadata": {},
     "output_type": "execute_result"
    }
   ],
   "source": [
    "Cache.getCache({'hello':'world'}, compression = True)"
   ]
  },
  {
   "cell_type": "code",
   "execution_count": null,
   "metadata": {},
   "outputs": [],
   "source": []
  }
 ],
 "metadata": {
  "kernelspec": {
   "display_name": "Python 3",
   "language": "python",
   "name": "python3"
  },
  "language_info": {
   "codemirror_mode": {
    "name": "ipython",
    "version": 3
   },
   "file_extension": ".py",
   "mimetype": "text/x-python",
   "name": "python",
   "nbconvert_exporter": "python",
   "pygments_lexer": "ipython3",
   "version": "3.8.1"
  }
 },
 "nbformat": 4,
 "nbformat_minor": 4
}
